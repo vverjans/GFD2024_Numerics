{
 "cells": [
  {
   "cell_type": "markdown",
   "id": "c2145fd6",
   "metadata": {},
   "source": [
    "# Simple oil spill diffusion problem"
   ]
  },
  {
   "cell_type": "markdown",
   "id": "9dccf419",
   "metadata": {},
   "source": [
    "<img src=\"/img_oilspill.png\" width=300 height=200/>"
   ]
  },
  {
   "cell_type": "markdown",
   "id": "00d299c0",
   "metadata": {},
   "source": [
    "## Information\n",
    "This problem is about a simulated oil spill occurring in a still ocean. The oil will proggressively diffuse away from the spill location. We can solve the diffusion equation numerically to compute the oil concentration at the ocean surface as a function of space and time.\n",
    "In this problem, we simulate only diffusion, and we neglect advection by ocean currents. This is not realistic, but could be a better approximation for other cases (e.g., spill in an aquifer)."
   ]
  },
  {
   "cell_type": "markdown",
   "id": "00db0d70",
   "metadata": {},
   "source": [
    "The diffusion equation is: \n",
    "\n",
    "$\\frac{\\partial u(x)}{\\partial t}=D\\frac{\\partial^{2}u(x)}{\\partial x^{2}}$ \n",
    "\n",
    "Where,\n",
    "- $u(x)$: the oil concentration kg [$kg$ $m^{-3}$]\n",
    "- $D$: the oil diffusion coefficient [$m^{2}$ $s^{-1}$] \n",
    "\n",
    "We fix the parameter $D$ to 10 $m^{2}$ $s^{-1}$, following Zelenke et al. (2012). We use a 100 km long simulation domain, and simulate the diffusion of oil from its starting point $x=0$."
   ]
  },
  {
   "cell_type": "markdown",
   "id": "27038991",
   "metadata": {},
   "source": [
    "We use a forward in time centered in space finite difference scheme (FTCS). Under this framework, the diffusion equation is discretized as (see derivation in class):\n",
    "\n",
    "$\\frac{u_{j}^{(n+1)}-u_{j}^{(n)}}{\\Delta t}=D\\frac{u_{j+1}^{(n)}-2u_{j}^{(n)}+u_{j-1}^{(n)}}{\\Delta x^{2}}$"
   ]
  },
  {
   "cell_type": "markdown",
   "id": "21f3d5c8",
   "metadata": {},
   "source": [
    "Before going into the code, we should think about which boundary conditions we can/should apply to this problem. Remember that there are two common types of boundary conditions:\n",
    "- Dirichlet boundary conditions $u(x=x_{B})=u_{B}$\n",
    "- Neumann boundary conditions $\\frac{\\partial u(x=x_{B})}{\\partial x}=\\left(\\frac{\\partial u(x)}{\\partial x}\\right)_{B}$"
   ]
  },
  {
   "cell_type": "markdown",
   "id": "6a07dad8",
   "metadata": {},
   "source": [
    "Using the code, you should think about the following aspects:\n",
    "- What is the numerical stability of the FTCS scheme?\n",
    "- Can we modify the code to simulate an instantaneous oil release only at $t=0$?\n",
    "- What is the equilibrium profile of oil concentration, and why?\n",
    "- How can we include ocean currents?"
   ]
  },
  {
   "cell_type": "code",
   "execution_count": null,
   "id": "14c55ed4",
   "metadata": {},
   "outputs": [],
   "source": [
    "import os\n",
    "import sys\n",
    "import math\n",
    "import copy\n",
    "import time\n",
    "import numpy as np\n",
    "import matplotlib.pyplot as plt"
   ]
  },
  {
   "cell_type": "markdown",
   "id": "d848b506",
   "metadata": {},
   "source": [
    "Set up the x-grid."
   ]
  },
  {
   "cell_type": "code",
   "execution_count": null,
   "id": "73b18396",
   "metadata": {},
   "outputs": [],
   "source": [
    "deltax      = 1000.0 #[m]\n",
    "xgrid       = np.arange(0,1e5,deltax) #[m]\n",
    "xnum        = len(xgrid)\n",
    "spill_scale = 1000.0 #[m]"
   ]
  },
  {
   "cell_type": "markdown",
   "id": "13856a0d",
   "metadata": {},
   "source": [
    "Define the initial values. Here, we simulate a release of oil similar in magnitude to the Deepwater Horizon oil spill of 2010$^{\\text{(a)}}$. We assume that the oil is released over a surface of 1 $km^{2}$, and down to a depth f 1 $m$. Finally, we assume a very low baseline of oil concentration in the ocean."
   ]
  },
  {
   "cell_type": "code",
   "execution_count": null,
   "id": "d29f516f",
   "metadata": {},
   "outputs": [],
   "source": [
    "uu_base   = 0.001 #[kg m-3] baseline oil pollution concentration at the ocean surface\n",
    "uu_spill  = 560000/(1*spill_scale**2) #[kg m-3] oil concentration at the spill location (Deepwater Horizon value, wiki)"
   ]
  },
  {
   "cell_type": "markdown",
   "id": "ce834752",
   "metadata": {},
   "source": [
    "Define the boundary conditions."
   ]
  },
  {
   "cell_type": "code",
   "execution_count": null,
   "id": "57dd4b78",
   "metadata": {},
   "outputs": [],
   "source": [
    "uu_left_dirich  = copy.deepcopy(uu_spill)\n",
    "uu_right_dirich = copy.deepcopy(uu_base)"
   ]
  },
  {
   "cell_type": "markdown",
   "id": "68c82f8c",
   "metadata": {},
   "source": [
    "Define the parameters."
   ]
  },
  {
   "cell_type": "code",
   "execution_count": null,
   "id": "5354883d",
   "metadata": {},
   "outputs": [],
   "source": [
    "### Diffusion coefficient ###\n",
    "bigd      = 10.0 #[m2 s-1] (section 8 of Zelenke et al., 2012)\n",
    "\n",
    "### Time parameters ###\n",
    "secperd    = 3600*24 #[s]\n",
    "tmend_d    = 365 #days\n",
    "deltat_d   = 0.1 #[days]\n",
    "nsteps     = int(tmend_d/deltat_d)\n",
    "deltat_sec = deltat_d*secperd\n",
    "ttplot     = np.linspace(0.001*nsteps,nsteps-1,7).astype(int).tolist()"
   ]
  },
  {
   "cell_type": "markdown",
   "id": "aca311a9",
   "metadata": {},
   "source": [
    "Initialize our arrays for the solutions."
   ]
  },
  {
   "cell_type": "code",
   "execution_count": null,
   "id": "586f2aaf",
   "metadata": {},
   "outputs": [],
   "source": [
    "uu_0   = uu_base*np.ones(xnum)\n",
    "uu_0   = uu_0 + uu_spill*np.exp(-(1/2)*xgrid**2/spill_scale**2) #Gaussian profile\n",
    "uu_cur = copy.deepcopy(uu_0)"
   ]
  },
  {
   "cell_type": "markdown",
   "id": "e57eab02",
   "metadata": {},
   "source": [
    "FTCS scheme."
   ]
  },
  {
   "cell_type": "code",
   "execution_count": null,
   "id": "26c5ad7c",
   "metadata": {},
   "outputs": [],
   "source": [
    "alpha   = bigd*deltat_sec/deltax**2\n",
    "to_plot = np.zeros((len(ttplot),xnum))\n",
    "for tt in range(nsteps):\n",
    "    # Copy old uu field #\n",
    "    uu_old       = copy.deepcopy(uu_cur)\n",
    "    # Vectorized finite difference #\n",
    "    uu_cur[1:-1] = alpha*uu_old[0:-2] + (1-2*alpha)*uu_old[1:-1] + alpha*uu_old[2:]\n",
    "    # Set boundary conditions #\n",
    "    uu_cur[0]    = copy.deepcopy(uu_left_dirich)\n",
    "    uu_cur[-1]   = copy.deepcopy(uu_right_dirich)\n",
    "    # Save for plotting #\n",
    "    if(tt in ttplot):\n",
    "        to_plot[ttplot.index(tt),:] = copy.deepcopy(uu_cur)"
   ]
  },
  {
   "cell_type": "markdown",
   "id": "dfe0fa49",
   "metadata": {},
   "source": [
    "And make a figure."
   ]
  },
  {
   "cell_type": "code",
   "execution_count": null,
   "id": "c4168004",
   "metadata": {},
   "outputs": [],
   "source": [
    "plcols = plt.cm.jet\n",
    "fig = plt.figure(figsize=(10,6))\n",
    "ax = plt.subplot(111)\n",
    "for kk in range(len(ttplot)):\n",
    "    ax.plot(xgrid,to_plot[kk,:],c=plcols(kk/len(ttplot)),label=f'{np.round((ttplot[kk]+1)*deltat_d,1)} days')\n",
    "ax.legend(loc='best',fontsize=12)\n",
    "ax.tick_params(which='major',axis='both',labelsize=12)    \n",
    "ax.set_xlabel('x [m]',fontsize=12)\n",
    "ax.set_ylabel(r'Concentration $u(x,t)$ [$kg$ $m^{-3}$]',fontsize=12)\n",
    "fig.tight_layout()"
   ]
  },
  {
   "cell_type": "markdown",
   "id": "2ec0da77",
   "metadata": {},
   "source": [
    "## References\n",
    "- Zelenke, B., O’Connor, C., Barker, C., Beegle-Krause, C. J., and Eclipse, L. (Eds.): General NOAA Operational Modeling Environment (GNOME) Technical Documentation, US Dept. of Commerce, NOAA Technical Memorandum NOS OR&R 40. Seattle, WA: Emergency Response Division, NOAA, 105 pp., 2012.\n",
    "- (a): https://en.wikipedia.org/wiki/Oil_spill"
   ]
  }
 ],
 "metadata": {
  "kernelspec": {
   "display_name": "Python 3 (ipykernel)",
   "language": "python",
   "name": "python3"
  },
  "language_info": {
   "codemirror_mode": {
    "name": "ipython",
    "version": 3
   },
   "file_extension": ".py",
   "mimetype": "text/x-python",
   "name": "python",
   "nbconvert_exporter": "python",
   "pygments_lexer": "ipython3",
   "version": "3.10.13"
  }
 },
 "nbformat": 4,
 "nbformat_minor": 5
}
