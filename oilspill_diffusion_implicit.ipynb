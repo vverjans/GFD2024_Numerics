{
 "cells": [
  {
   "cell_type": "markdown",
   "id": "e73a8c6d",
   "metadata": {},
   "source": [
    "# Simple oil spill diffusion problem"
   ]
  },
  {
   "cell_type": "markdown",
   "id": "c5c2ea36",
   "metadata": {},
   "source": [
    "<img src=\"/img_oilspill.png\" width=300 height=200/>"
   ]
  },
  {
   "cell_type": "markdown",
   "id": "8821286e",
   "metadata": {},
   "source": [
    "## Information\n",
    "This problem is about a simulated oil spill occurring in a still ocean. It uses the same framework as the code oilspill_diffusion_ftcs.ipynb, but here we are using a fully-implicit scheme. First, let's recap the problem.\n",
    "\n",
    "The oil will progressively diffuse away from the spill location. We can solve the diffusion equation numerically to compute the oil concentration at the ocean surface as a function of space and time.\n",
    "In this problem, we simulate only diffusion, and we neglect advection by ocean currents. This is not realistic, but could be a better approximation for other cases (e.g., spill in an aquifer)."
   ]
  },
  {
   "cell_type": "markdown",
   "id": "d2c0b76e",
   "metadata": {},
   "source": [
    "The diffusion equation is: \n",
    "\n",
    "$\\frac{\\partial u(x)}{\\partial t}=D\\frac{\\partial^{2}u(x)}{\\partial x^{2}}$ \n",
    "\n",
    "Where,\n",
    "- $u(x)$: the oil concentration kg [$kg$ $m^{-3}$]\n",
    "- $D$: the oil diffusion coefficient [$m^{2}$ $s^{-1}$] \n",
    "\n",
    "We fix the parameter $D$ to 10 $m^{2}$ $s^{-1}$, following Zelenke et al. (2012). We use a 100 km long simulation domain, and simulate the diffusion of oil from its starting point $x=0$."
   ]
  },
  {
   "cell_type": "markdown",
   "id": "614f9834",
   "metadata": {},
   "source": [
    "We use a an implicit scheme, with centered differences in space. Under this framework, the diffusion equation is discretized as (see derivation in class):\n",
    "\n",
    "$\\frac{u_{j}^{(n+1)}-u_{j}^{(n)}}{\\Delta t}=D\\frac{u_{j+1}^{(n+1)}-2u_{j}^{(n+1)}+u_{j-1}^{(n+1)}}{\\Delta x^{2}}$,\n",
    "\n",
    "which leads to:\n",
    "\n",
    "$-\\alpha u_{j-1}^{(n+1)} + (1+2\\alpha) u_{j}^{(n+1)} - \\alpha u_{j+1}^{(n+1)} = u_{j}^{(n)}$,\n",
    "\n",
    "where\n",
    "\n",
    "$\\alpha=\\frac{D\\Delta t}{\\Delta x^{2}}$"
   ]
  },
  {
   "cell_type": "markdown",
   "id": "b94eb0c8",
   "metadata": {},
   "source": [
    "As in oilspill_diffusion_ftcs.ipynb, you should think about the implementation of boundary conditions, the equilibrium profile, and how ocean currents can be included. Using the code specific to this notebook, you should think about the following aspects:\n",
    "- How does the solution method differs from the FTCS scheme?\n",
    "- Can you test the numerical stability of this implicit scheme?\n",
    "- What is the difference between numerical stability and accuracy?"
   ]
  },
  {
   "cell_type": "code",
   "execution_count": null,
   "id": "ddc97645",
   "metadata": {},
   "outputs": [],
   "source": [
    "import os\n",
    "import sys\n",
    "import math\n",
    "import copy\n",
    "import time\n",
    "import numpy as np\n",
    "import matplotlib.pyplot as plt\n",
    "from scipy.sparse import diags"
   ]
  },
  {
   "cell_type": "markdown",
   "id": "8177c47f",
   "metadata": {},
   "source": [
    "Set up the x-grid."
   ]
  },
  {
   "cell_type": "code",
   "execution_count": null,
   "id": "65e0d267",
   "metadata": {},
   "outputs": [],
   "source": [
    "deltax      = 1000.0 #[m]\n",
    "xgrid       = np.arange(0,1e5,deltax) #[m]\n",
    "xnum        = len(xgrid)\n",
    "spill_scale = 1000.0 #[m]"
   ]
  },
  {
   "cell_type": "markdown",
   "id": "6f9b4e27",
   "metadata": {},
   "source": [
    "Define the initial values. Here, we simulate a release of oil similar in magnitude to the Deepwater Horizon oil spill of 2010$^{\\text{(a)}}$. We assume that the oil is released over a surface of 1 $km^{2}$, and down to a depth f 1 $m$. Finally, we assume a very low baseline of oil concentration in the ocean."
   ]
  },
  {
   "cell_type": "code",
   "execution_count": null,
   "id": "dea9468e",
   "metadata": {},
   "outputs": [],
   "source": [
    "uu_base   = 0.001 #[kg m-3] baseline oil pollution concentration at the ocean surface\n",
    "uu_spill  = 560000/(1*spill_scale**2) #[kg m-3] oil concentration at the spill location (Deepwater Horizon value, wiki)"
   ]
  },
  {
   "cell_type": "markdown",
   "id": "5a34cc3d",
   "metadata": {},
   "source": [
    "Define the boundary conditions."
   ]
  },
  {
   "cell_type": "code",
   "execution_count": null,
   "id": "99c57dcf",
   "metadata": {},
   "outputs": [],
   "source": [
    "uu_left_dirich  = copy.deepcopy(uu_spill)\n",
    "uu_right_dirich = copy.deepcopy(uu_base)"
   ]
  },
  {
   "cell_type": "markdown",
   "id": "c681ac65",
   "metadata": {},
   "source": [
    "Define the parameters."
   ]
  },
  {
   "cell_type": "code",
   "execution_count": null,
   "id": "a7744971",
   "metadata": {},
   "outputs": [],
   "source": [
    "### Diffusion coefficient ###\n",
    "bigd      = 10.0 #[m2 s-1] (section 8 of Zelenke et al., 2012)\n",
    "\n",
    "### Time parameters ###\n",
    "secperd    = 3600*24 #[s]\n",
    "tmend_d    = 365 #days\n",
    "deltat_d   = 0.1 #[days]\n",
    "nsteps     = int(tmend_d/deltat_d)\n",
    "deltat_sec = deltat_d*secperd\n",
    "ttplot     = np.linspace(0.001*nsteps,nsteps-1,7).astype(int).tolist()"
   ]
  },
  {
   "cell_type": "markdown",
   "id": "7b876f0a",
   "metadata": {},
   "source": [
    "Initialize our arrays for the solutions."
   ]
  },
  {
   "cell_type": "code",
   "execution_count": null,
   "id": "50144aed",
   "metadata": {},
   "outputs": [],
   "source": [
    "uu_0   = uu_base*np.ones(xnum)\n",
    "uu_0   = uu_0 + uu_spill*np.exp(-(1/2)*xgrid**2/spill_scale**2) #Gaussian profile\n",
    "uu_cur = copy.deepcopy(uu_0)"
   ]
  },
  {
   "cell_type": "markdown",
   "id": "8a76716f",
   "metadata": {},
   "source": [
    "Define the $H$ matrix."
   ]
  },
  {
   "cell_type": "code",
   "execution_count": null,
   "id": "89990892",
   "metadata": {},
   "outputs": [],
   "source": [
    "alpha         = bigd*deltat_sec/deltax**2\n",
    "updiag        = -alpha*np.ones(xnum-1)\n",
    "updiag[0]     = 0\n",
    "maindiag      = (1+2*alpha)*np.ones(xnum)\n",
    "maindiag[0]   = 1\n",
    "maindiag[-1]  = 1\n",
    "lowdiag       = -alpha*np.ones(xnum-1)\n",
    "lowdiag[-1]   = 0\n",
    "hmat          = diags([lowdiag,maindiag,updiag],[-1,0,1]).toarray()\n",
    "invhmat       = np.linalg.inv(hmat)"
   ]
  },
  {
   "cell_type": "markdown",
   "id": "bc2c4fb1",
   "metadata": {},
   "source": [
    "Loop in time"
   ]
  },
  {
   "cell_type": "code",
   "execution_count": null,
   "id": "04faf9a7",
   "metadata": {},
   "outputs": [],
   "source": [
    "to_plot = np.zeros((len(ttplot),xnum))\n",
    "for tt in range(nsteps):\n",
    "    # Copy old uu field #\n",
    "    uu_old = copy.deepcopy(uu_cur)\n",
    "    # Solve matrix system #\n",
    "    uu_old = uu_old.reshape((xnum,1))\n",
    "    uu_cur = (invhmat @ uu_old)\n",
    "    uu_cur = uu_cur.flatten()\n",
    "    # Save for plotting #\n",
    "    if(tt in ttplot):\n",
    "        to_plot[ttplot.index(tt),:] = copy.deepcopy(uu_cur)"
   ]
  },
  {
   "cell_type": "markdown",
   "id": "10693794",
   "metadata": {},
   "source": [
    "And make a figure."
   ]
  },
  {
   "cell_type": "code",
   "execution_count": null,
   "id": "b25be7f7",
   "metadata": {},
   "outputs": [],
   "source": [
    "plcols = plt.cm.jet\n",
    "fig = plt.figure(figsize=(10,6))\n",
    "ax = plt.subplot(111)\n",
    "for kk in range(len(ttplot)):\n",
    "    ax.plot(xgrid,to_plot[kk,:],c=plcols(kk/len(ttplot)),label=f'{np.round((ttplot[kk]+1)*deltat_d,1)} days')\n",
    "ax.legend(loc='best',fontsize=12)\n",
    "ax.tick_params(which='major',axis='both',labelsize=12)    \n",
    "ax.set_xlabel('x [m]',fontsize=12)\n",
    "ax.set_ylabel(r'Concentration $u(x,t)$ [$kg$ $m^{-3}$]',fontsize=12)\n",
    "fig.tight_layout()"
   ]
  }
 ],
 "metadata": {
  "kernelspec": {
   "display_name": "Python 3 (ipykernel)",
   "language": "python",
   "name": "python3"
  },
  "language_info": {
   "codemirror_mode": {
    "name": "ipython",
    "version": 3
   },
   "file_extension": ".py",
   "mimetype": "text/x-python",
   "name": "python",
   "nbconvert_exporter": "python",
   "pygments_lexer": "ipython3",
   "version": "3.10.13"
  }
 },
 "nbformat": 4,
 "nbformat_minor": 5
}
