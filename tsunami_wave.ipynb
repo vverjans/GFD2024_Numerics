{
 "cells": [
  {
   "cell_type": "markdown",
   "id": "f06cb23b",
   "metadata": {},
   "source": [
    "# Tsunami wave propagation"
   ]
  },
  {
   "cell_type": "markdown",
   "id": "28988a34",
   "metadata": {},
   "source": [
    "<img src=\"/img_oilspill.png\" width=300 height=200/>"
   ]
  },
  {
   "cell_type": "markdown",
   "id": "e5c96db9",
   "metadata": {},
   "source": [
    "## Information\n",
    "This problem is about a simulated tsunami wave propagating in the ocean. Such a problem is well-approximated by the shallow water wave equation:\n",
    "\n",
    "$\\frac{\\partial^{2}\\eta}{\\partial t^{2}} = \\frac{\\partial}{\\partial x}\\left(gH\\frac{\\partial \\eta}{\\partial x}\\right)$\n",
    "\n",
    "where $\\eta$ is the surface height perturbation [m], $H$ is the ocean depth [m], and $g$ is gravity [$m$ $s^{-2}$]. Using a scheme that is centered in both time and space, we discretize the wave equation as (see derivation in class):\n",
    "\n",
    "$\\frac{\\eta_{j}^{(n+1)}-2\\eta_{j}^{(n)}+\\eta_{j}^{(n-1)}}{\\Delta t^{2}} = \\frac{g \\bar{H}_{j}}{\\Delta x^{2}} \\left(\\eta_{j+1}^{(n)}-2\\eta_{j}^{(n)}+\\eta_{j-1}^{(n)}\\right) + g\\frac{\\bar{H}_{j+1}-\\bar{H}_{j-1}}{2\\Delta x} \\frac{\\eta_{j+1}^{(n)}-\\eta_{j-1}^{(n)}}{2\\Delta x}$\n",
    "\n",
    "where $\\bar{H}$ is the reference ocean depth [m]."
   ]
  },
  {
   "cell_type": "markdown",
   "id": "295bf134",
   "metadata": {},
   "source": [
    "In terms of numerics, there are important questions that you should think about before going into the code:\n",
    "- What is neglected in our discretization of the shallow water wave equation?\n",
    "- What initial conditions can we set?\n",
    "- How do we solve for the first time step?\n",
    "\n",
    "Finally, note the shallow water wave equation imnplies a wave speed propagation given by $v=\\sqrt{gH}$."
   ]
  },
  {
   "cell_type": "code",
   "execution_count": null,
   "id": "69e21328",
   "metadata": {},
   "outputs": [],
   "source": [
    "import os\n",
    "import sys\n",
    "import math\n",
    "import copy\n",
    "import time\n",
    "import numpy as np\n",
    "import matplotlib.pyplot as plt"
   ]
  },
  {
   "cell_type": "markdown",
   "id": "7a5f271e",
   "metadata": {},
   "source": [
    "Set up the x-grid and the bathymetry"
   ]
  },
  {
   "cell_type": "code",
   "execution_count": null,
   "id": "742ec168",
   "metadata": {},
   "outputs": [],
   "source": [
    "deltax  = 2000.0 #[m]\n",
    "xgrid   = np.arange(-4e6,4e6+1,deltax) #[m]\n",
    "xnum    = len(xgrid)\n",
    "### Bathymetry with a continental slope ###\n",
    "contslope_pos   = (3/4)*np.max(xgrid)\n",
    "contslope_slope = 0.003\n",
    "bathy           = -4000*np.ones(xnum)\n",
    "inds            = xgrid>=contslope_pos\n",
    "bathy[inds]     = bathy[inds]+contslope_slope*(xgrid[inds]-contslope_pos)\n",
    "bathy_a         = abs(bathy)"
   ]
  },
  {
   "cell_type": "markdown",
   "id": "12ea16d6",
   "metadata": {},
   "source": [
    "Set the initial peturbation as a Gaussian bump"
   ]
  },
  {
   "cell_type": "code",
   "execution_count": null,
   "id": "5647a910",
   "metadata": {},
   "outputs": [],
   "source": [
    "### Gaussian bump ###\n",
    "bump_h  = 10.0\n",
    "bump_w  = 50000.0\n",
    "bump_c  = 0\n",
    "uu_0    = bump_h*np.exp((-1/2)*((xgrid-bump_c)**2)/(bump_w**2))"
   ]
  },
  {
   "cell_type": "markdown",
   "id": "3cd97f6d",
   "metadata": {},
   "source": [
    "Define the parameters."
   ]
  },
  {
   "cell_type": "code",
   "execution_count": null,
   "id": "5a9d942c",
   "metadata": {},
   "outputs": [],
   "source": [
    "grv       = 9.81 #[m s-2]\n",
    "secperh   = 3600 #[s]\n",
    "mperkm    = 1000 #[m]\n",
    "### Time parameters ###\n",
    "tmend_h    = 5 #[hour]\n",
    "tmend_sec  = tmend_h*secperh #[s]\n",
    "deltat_sec = 1 #[s]\n",
    "nsteps     = int(tmend_sec/deltat_sec)\n",
    "ttplot     = np.linspace(0.001*nsteps,nsteps-1,8).astype(int).tolist()"
   ]
  },
  {
   "cell_type": "markdown",
   "id": "118e758b",
   "metadata": {},
   "source": [
    "Initialize our solution array."
   ]
  },
  {
   "cell_type": "code",
   "execution_count": null,
   "id": "5c9b675a",
   "metadata": {},
   "outputs": [],
   "source": [
    "uu_cur = copy.deepcopy(uu_0)"
   ]
  },
  {
   "cell_type": "markdown",
   "id": "135d3f75",
   "metadata": {},
   "source": [
    "Solve with a scheme centered in time and centered in space."
   ]
  },
  {
   "cell_type": "code",
   "execution_count": null,
   "id": "8180b772",
   "metadata": {},
   "outputs": [],
   "source": [
    "uu_old    = np.nan*np.ones(xnum)\n",
    "uu_old_2  = np.nan*np.ones(xnum)\n",
    "to_plot   = np.zeros((len(ttplot),xnum))\n",
    "for tt in range(nsteps):\n",
    "    # Copy old uu field #\n",
    "    uu_old_2        = copy.deepcopy(uu_old)\n",
    "    uu_old          = copy.deepcopy(uu_cur)\n",
    "    # Centered spatial differences #\n",
    "    sp_term1        = uu_old[2:]-2*uu_old[1:-1]+uu_old[0:-2]\n",
    "    sp_term2        = ((bathy_a[2:]-bathy_a[0:-2])*(uu_old[2:]-uu_old[0:-2]))\n",
    "    fac1            = ((np.sqrt(grv*bathy_a)*deltat_sec/deltax)**2)[1:-1]\n",
    "    fac2            = (np.sqrt(grv)*deltat_sec/(2*deltax))**2\n",
    "    if(tt==0):\n",
    "        # Initial condition: du/dt=0 #\n",
    "        uu_cur[1:-1] = uu_old[1:-1] + (1/2)*fac1*sp_term1 + fac2*sp_term2\n",
    "    elif(tt>0):\n",
    "        uu_cur[1:-1] = -1*uu_old_2[1:-1] + 2*uu_old[1:-1] + fac1*sp_term1 + fac2*sp_term2\n",
    "    # Boundary conditions #\n",
    "    uu_cur[0]  = copy.deepcopy(uu_cur[2])\n",
    "    uu_cur[-1] = copy.deepcopy(uu_cur[-3])\n",
    "    # Save for plotting #\n",
    "    if(tt in ttplot):\n",
    "        to_plot[ttplot.index(tt),:] = copy.deepcopy(uu_cur)"
   ]
  },
  {
   "cell_type": "markdown",
   "id": "078b8cd5",
   "metadata": {},
   "source": [
    "And make a figure."
   ]
  },
  {
   "cell_type": "code",
   "execution_count": null,
   "id": "0220912b",
   "metadata": {},
   "outputs": [],
   "source": [
    "xgrid_km = xgrid/mperkm\n",
    "plcols = plt.cm.jet\n",
    "fig = plt.figure(figsize=(10,9))\n",
    "ax = plt.subplot(211)\n",
    "for kk in range(len(ttplot)):\n",
    "    ax.plot(xgrid_km,to_plot[kk,:],c=plcols(kk/len(ttplot)),label=f'{np.round(ttplot[kk]*deltat_sec/secperh,1)} h')\n",
    "ax.legend(loc='best',fontsize=12,ncol=2)\n",
    "ax.tick_params(which='major',axis='both',labelsize=12)    \n",
    "ax.set_xlim([-10*deltax/mperkm,np.max(xgrid_km)])\n",
    "ax.set_xticks([])\n",
    "ax.set_ylabel('Wave height [m]',fontsize=12)\n",
    "ax = plt.subplot(212)\n",
    "ax.plot(xgrid_km,bathy,c='k',linewidth=2.5)\n",
    "ax.tick_params(which='major',axis='both',labelsize=12)    \n",
    "ax.set_xlim([-10*deltax/mperkm,np.max(xgrid_km)])\n",
    "ax.set_ylim([1.1*np.min(bathy),0])\n",
    "ax.set_xlabel('x [km]',fontsize=12)\n",
    "ax.set_ylabel('Bathymetry [m]',fontsize=12)\n",
    "fig.tight_layout()    "
   ]
  }
 ],
 "metadata": {
  "kernelspec": {
   "display_name": "Python 3 (ipykernel)",
   "language": "python",
   "name": "python3"
  },
  "language_info": {
   "codemirror_mode": {
    "name": "ipython",
    "version": 3
   },
   "file_extension": ".py",
   "mimetype": "text/x-python",
   "name": "python",
   "nbconvert_exporter": "python",
   "pygments_lexer": "ipython3",
   "version": "3.10.13"
  }
 },
 "nbformat": 4,
 "nbformat_minor": 5
}
