{
 "cells": [
  {
   "cell_type": "markdown",
   "id": "d891ac76",
   "metadata": {},
   "source": [
    "# Numerical approach to the ballistic problem"
   ]
  },
  {
   "cell_type": "markdown",
   "id": "bb9671a5",
   "metadata": {},
   "source": [
    "<img src=\"/img_cannonball.png\" width=400 height=200/>"
   ]
  },
  {
   "cell_type": "markdown",
   "id": "756d41e1",
   "metadata": {},
   "source": [
    "## Information"
   ]
  },
  {
   "cell_type": "markdown",
   "id": "01c609bf",
   "metadata": {},
   "source": [
    "This problem is about a canon ball being shot in the air. The ball goes up and falls down, following a parabolic trajectory. We neglect all forces except gravity. The mathematical set up of the problem is:"
   ]
  },
  {
   "cell_type": "markdown",
   "id": "94d32142",
   "metadata": {},
   "source": [
    "$\\begin{equation}\n",
    "\\left\\{ \n",
    "  \\begin{aligned}\n",
    "    &m \\frac{du}{dt}=0\\\\\n",
    "    &m \\frac{dw}{dt}=-mg\n",
    "  \\end{aligned}\n",
    "\\right.\n",
    "\\end{equation}$\n"
   ]
  },
  {
   "cell_type": "markdown",
   "id": "bc439a8e",
   "metadata": {},
   "source": [
    "Which gives:"
   ]
  },
  {
   "cell_type": "markdown",
   "id": "ecfe1fad",
   "metadata": {},
   "source": [
    "$\\begin{equation}\n",
    "\\left\\{ \n",
    "  \\begin{aligned}\n",
    "    &u = u_{0}\\\\\n",
    "    &w = -gt+w_{0}\n",
    "  \\end{aligned}\n",
    "\\right.\n",
    "\\end{equation}$\n"
   ]
  },
  {
   "cell_type": "markdown",
   "id": "86a72461",
   "metadata": {},
   "source": [
    "We will solve this system numerically, by integrating forward in time. However, note the equations for $x$ and $z$ do have analytic solutions. They can be found by integration and substitution. The solutions are: \\\n",
    "\n",
    "$\\begin{equation}\n",
    "\\left\\{ \n",
    "  \\begin{aligned}\n",
    "    &x = u_{0}t \\\\\n",
    "    &z = \\frac{-g}{2u_{0}^{2}} x^{2} + \\frac{w_{0}}{u_{0}} x\n",
    "  \\end{aligned}\n",
    "\\right.\n",
    "\\end{equation}$"
   ]
  },
  {
   "cell_type": "markdown",
   "id": "2a85ad29",
   "metadata": {},
   "source": [
    "In this notebook, we use the known solution for $x$. We integrate $w$ numerically to determine the $z$ trajectory. The numerical trajectory can be compared to the analytic solution."
   ]
  },
  {
   "cell_type": "code",
   "execution_count": null,
   "id": "d5e2c756",
   "metadata": {},
   "outputs": [],
   "source": [
    "import os\n",
    "import sys\n",
    "import math\n",
    "import time\n",
    "import numpy as np\n",
    "import matplotlib.pyplot as plt"
   ]
  },
  {
   "cell_type": "markdown",
   "id": "10346061",
   "metadata": {},
   "source": [
    "Set up the parameters and initial values."
   ]
  },
  {
   "cell_type": "code",
   "execution_count": null,
   "id": "a8849407",
   "metadata": {},
   "outputs": [],
   "source": [
    "xx0   = 0\n",
    "zz0   = 0\n",
    "uu0   = 5 #[m/s]\n",
    "ww0   = 30 #[m/s]\n",
    "grv   = 9.81 #[m/s2]"
   ]
  },
  {
   "cell_type": "markdown",
   "id": "882ea5f3",
   "metadata": {},
   "source": [
    "Set up the time stepping."
   ]
  },
  {
   "cell_type": "code",
   "execution_count": null,
   "id": "7066163b",
   "metadata": {},
   "outputs": [],
   "source": [
    "tmend   = 10\n",
    "deltat  = 0.1\n",
    "nsteps  = int(tmend/deltat)"
   ]
  },
  {
   "cell_type": "markdown",
   "id": "476dff8f",
   "metadata": {},
   "source": [
    "We can define the function describing the analytic trajectory solution."
   ]
  },
  {
   "cell_type": "code",
   "execution_count": null,
   "id": "a8431bf0",
   "metadata": {},
   "outputs": [],
   "source": [
    "def analytic_ballistic(xpos,uinit,winit,gravity=9.81):\n",
    "    '''\n",
    "    Analytic parabola trajectory for the ballistic problem\n",
    "    '''\n",
    "    zpos = -(gravity/2)*(1/uinit**2)*xpos**2+(winit/uinit)*xpos\n",
    "    return(zpos)"
   ]
  },
  {
   "cell_type": "markdown",
   "id": "94a66eaa",
   "metadata": {},
   "source": [
    "Now, we initialize our arrays for the analytic and the numerical solution."
   ]
  },
  {
   "cell_type": "code",
   "execution_count": null,
   "id": "861e6b6b",
   "metadata": {},
   "outputs": [],
   "source": [
    "nmr_zzfull     = np.zeros(nsteps)\n",
    "nmr_zzfull[0]  = zz0\n",
    "atic_zzfull    = np.zeros(nsteps)\n",
    "atic_zzfull[0] = zz0\n",
    "xxfull         = np.zeros(nsteps)\n",
    "xxfull[0]      = xx0"
   ]
  },
  {
   "cell_type": "markdown",
   "id": "21202de8",
   "metadata": {},
   "source": [
    "Step forward in time:"
   ]
  },
  {
   "cell_type": "code",
   "execution_count": null,
   "id": "fb97d541",
   "metadata": {},
   "outputs": [],
   "source": [
    "### Forward Euler ###\n",
    "for kk in range(nsteps-1):\n",
    "    xxfull[kk+1]      = uu0*(kk+1)*deltat\n",
    "    nmr_zzfull[kk+1]  = nmr_zzfull[kk]+deltat*(ww0-grv*(kk+1)*deltat)\n",
    "    atic_zzfull[kk+1] = analytic_ballistic(xxfull[kk+1],uu0,ww0,grv)\n",
    "    atic_zzfull[kk+1] = np.maximum(atic_zzfull[kk+1],0)\n",
    "    nmr_zzfull[kk+1]  = np.maximum(nmr_zzfull[kk+1],0)"
   ]
  },
  {
   "cell_type": "markdown",
   "id": "c26375cc",
   "metadata": {},
   "source": [
    "Check the error of the numerical scheme:"
   ]
  },
  {
   "cell_type": "code",
   "execution_count": null,
   "id": "dd93961e",
   "metadata": {},
   "outputs": [],
   "source": [
    "resids_nmr = np.round(nmr_zzfull-atic_zzfull,3)\n",
    "print(f'Maximum error: {resids_nmr[np.argmax(abs(resids_nmr))]} m')\n"
   ]
  },
  {
   "cell_type": "markdown",
   "id": "ca378dea",
   "metadata": {},
   "source": [
    "Make a figure."
   ]
  },
  {
   "cell_type": "code",
   "execution_count": null,
   "id": "ea424997",
   "metadata": {},
   "outputs": [],
   "source": [
    "fig = plt.figure(figsize=(6,5))\n",
    "ax = plt.subplot(111)\n",
    "ax.plot(xxfull,atic_zzfull,c='k',label='analytic trajectory')\n",
    "ax.scatter(xxfull,nmr_zzfull,c='forestgreen',marker='x',s=10,label='numerical trajectory')\n",
    "ax.legend(loc='best',fontsize=12)\n",
    "ax.tick_params(which='major',axis='both',labelsize=11)\n",
    "ax.set_xlabel('x [m]',fontsize=12)\n",
    "ax.set_ylabel('z [m]',fontsize=12)\n",
    "fig.tight_layout()"
   ]
  }
 ],
 "metadata": {
  "kernelspec": {
   "display_name": "Python 3 (ipykernel)",
   "language": "python",
   "name": "python3"
  },
  "language_info": {
   "codemirror_mode": {
    "name": "ipython",
    "version": 3
   },
   "file_extension": ".py",
   "mimetype": "text/x-python",
   "name": "python",
   "nbconvert_exporter": "python",
   "pygments_lexer": "ipython3",
   "version": "3.10.13"
  }
 },
 "nbformat": 4,
 "nbformat_minor": 5
}
