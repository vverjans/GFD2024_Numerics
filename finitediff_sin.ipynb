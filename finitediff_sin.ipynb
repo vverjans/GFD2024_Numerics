{
 "cells": [
  {
   "cell_type": "markdown",
   "id": "bbbc2f42",
   "metadata": {},
   "source": [
    "# Finite difference approximation to $\\text{sin}(x)$"
   ]
  },
  {
   "cell_type": "markdown",
   "id": "6b2a727f",
   "metadata": {},
   "source": [
    "<img src=\"/img_sine_cosine.jpg\" width=300 height=200/>"
   ]
  },
  {
   "cell_type": "markdown",
   "id": "525c1408",
   "metadata": {},
   "source": [
    "## Information"
   ]
  },
  {
   "cell_type": "markdown",
   "id": "1bcb673b",
   "metadata": {},
   "source": [
    "This notebook shows how finite differences can be used to approximate the derivative of a known function. In this case, we approximate the derivative of $\\text{sin}(x)$. This is a good test case, because the analytic solution is known: $\\frac{d\\text{sin}(x)}{dx}=\\text{cos}(x)$.\\\n",
    "We apply three different difference schemes. \n",
    "- Forward difference: $\\frac{du(x)}{dx} = \\frac{u(x+\\Delta x)-u(x)}{\\Delta x} + O(\\Delta x)$ \n",
    "- Backward difference: $\\frac{du(x)}{dx} = \\frac{u(x)-u(x-\\Delta x)}{\\Delta x} + O(\\Delta x)$ \n",
    "- Centered difference: $\\frac{du(x)}{dx} = \\frac{u(x+\\Delta x)-u(x-\\Delta x)}{2\\Delta x} + O(\\Delta x^{2})$ "
   ]
  },
  {
   "cell_type": "markdown",
   "id": "7d7925cc",
   "metadata": {},
   "source": [
    "With this simple code, it is easy to investigate the differences between the schemes, and the effect of grid resolution. Think about the following questions:\n",
    "- On which portions of $\\text{sin}(x)$ are the schemes most accurate?\n",
    "- Similarly, on which portions are the schemes least accurate?\n",
    "- Can you investigate the error behavior of each scheme as you change $\\Delta x$?"
   ]
  },
  {
   "cell_type": "markdown",
   "id": "15ebf39e",
   "metadata": {},
   "source": [
    "We need to load some libraries."
   ]
  },
  {
   "cell_type": "code",
   "execution_count": null,
   "id": "676ddc1b",
   "metadata": {},
   "outputs": [],
   "source": [
    "import os\n",
    "import sys\n",
    "import math\n",
    "import time\n",
    "import numpy as np\n",
    "import matplotlib.pyplot as plt"
   ]
  },
  {
   "cell_type": "markdown",
   "id": "c0d24c0a",
   "metadata": {},
   "source": [
    "First, let's set up the $x$ domain. Note that it is more convenient to define the grid in radian units."
   ]
  },
  {
   "cell_type": "code",
   "execution_count": null,
   "id": "4f482f39",
   "metadata": {},
   "outputs": [],
   "source": [
    "### Grid ###\n",
    "xmin   = 0\n",
    "xmax   = 2*np.pi\n",
    "deltax = 0.2 #default: 0.2\n",
    "gridx  = np.arange(xmin,xmax,step=deltax)\n",
    "numx   = len(gridx)"
   ]
  },
  {
   "cell_type": "markdown",
   "id": "cc36bf91",
   "metadata": {},
   "source": [
    "Next, we define our function, and its analytic derivative."
   ]
  },
  {
   "cell_type": "code",
   "execution_count": null,
   "id": "6a33209e",
   "metadata": {},
   "outputs": [],
   "source": [
    "def sinefunc(rad):\n",
    "    '''\n",
    "    Sine function applying to values in radian units\n",
    "    '''\n",
    "    return(np.sin(rad))\n",
    "def cosinefunc(rad):\n",
    "    '''\n",
    "    Cosine function applying to values in radian units\n",
    "    '''\n",
    "    return(np.cos(rad))"
   ]
  },
  {
   "cell_type": "markdown",
   "id": "419c7efc",
   "metadata": {},
   "source": [
    "Before approximating the derivative, we need to compute $\\text{sin}(x)$ itself."
   ]
  },
  {
   "cell_type": "code",
   "execution_count": null,
   "id": "6475e91d",
   "metadata": {},
   "outputs": [],
   "source": [
    "uux = sinefunc(gridx)"
   ]
  },
  {
   "cell_type": "markdown",
   "id": "a8324d2a",
   "metadata": {},
   "source": [
    "Evaluate the true derivative:"
   ]
  },
  {
   "cell_type": "code",
   "execution_count": null,
   "id": "5a97535f",
   "metadata": {},
   "outputs": [],
   "source": [
    "true_dudx = cosinefunc(gridx)"
   ]
  },
  {
   "cell_type": "markdown",
   "id": "c60ca98c",
   "metadata": {},
   "source": [
    "Evaluate the approximate derivatives. Note that the Forward scheme requires a special treatment for the right boundary condition, the Backward scheme for the left boundary, and the Centered scheme for both boundaries."
   ]
  },
  {
   "cell_type": "code",
   "execution_count": null,
   "id": "fc0cc7cd",
   "metadata": {},
   "outputs": [],
   "source": [
    "### Forward-difference ###\n",
    "fd_dudx = np.zeros(numx)\n",
    "for ii in range(numx-1):\n",
    "    fd_dudx[ii] = (uux[ii+1]-uux[ii])/deltax\n",
    "# BC #\n",
    "fd_dudx[-1] = (uux[-1]-uux[-2])/deltax\n",
    "\n",
    "### Backward-difference ###\n",
    "bd_dudx = np.zeros(numx)\n",
    "for ii in range(1,numx):\n",
    "    bd_dudx[ii] = (uux[ii]-uux[ii-1])/deltax\n",
    "# BC #\n",
    "bd_dudx[0] = (uux[1]-uux[0])/deltax\n",
    "\n",
    "### Centered-difference ###\n",
    "cd_dudx = np.zeros(numx)\n",
    "for ii in range(1,numx-1):\n",
    "    cd_dudx[ii] = (uux[ii+1]-uux[ii-1])/(2*deltax)\n",
    "# BC #\n",
    "cd_dudx[-1] = (uux[-1]-uux[-2])/deltax\n",
    "cd_dudx[0]  = (uux[1]-uux[0])/deltax"
   ]
  },
  {
   "cell_type": "markdown",
   "id": "ccf804fa",
   "metadata": {},
   "source": [
    "Check the errors of the schemes."
   ]
  },
  {
   "cell_type": "code",
   "execution_count": null,
   "id": "f6b93f91",
   "metadata": {},
   "outputs": [],
   "source": [
    "### Errors ###\n",
    "resids_fd = np.round(fd_dudx-true_dudx,3)\n",
    "resids_bd = np.round(bd_dudx-true_dudx,3)\n",
    "resids_cd = np.round(cd_dudx-true_dudx,3)\n",
    "print(f'FD maximum error: {resids_fd[np.argmax(abs(resids_fd))]} m')\n",
    "print(f'BD maximum error: {resids_bd[np.argmax(abs(resids_bd))]} m')\n",
    "print(f'CD maximum error: {resids_cd[np.argmax(abs(resids_cd))]} m')"
   ]
  },
  {
   "cell_type": "markdown",
   "id": "622759eb",
   "metadata": {},
   "source": [
    "And make a figure:"
   ]
  },
  {
   "cell_type": "code",
   "execution_count": null,
   "id": "585160a6",
   "metadata": {},
   "outputs": [],
   "source": [
    "fig = plt.figure(figsize=(6,5))\n",
    "ax = plt.subplot(111)\n",
    "ax.plot(gridx,uux,c='k',label='u(x)')\n",
    "ax.plot(gridx,true_dudx,c='grey',label='true du(x)/dx',alpha=0.5)\n",
    "ax.scatter(gridx,fd_dudx,c='r',marker='x',s=10,label='FD du(x)/dx')\n",
    "ax.scatter(gridx,bd_dudx,c='b',marker='x',s=10,label='BD du(x)/dx')\n",
    "ax.scatter(gridx,cd_dudx,c='g',marker='x',s=10,label='CD du(x)/dx')\n",
    "ax.legend(loc='best',fontsize=12)\n",
    "ax.tick_params(which='major',axis='both',labelsize=11)\n",
    "fig.tight_layout()"
   ]
  }
 ],
 "metadata": {
  "kernelspec": {
   "display_name": "Python 3 (ipykernel)",
   "language": "python",
   "name": "python3"
  },
  "language_info": {
   "codemirror_mode": {
    "name": "ipython",
    "version": 3
   },
   "file_extension": ".py",
   "mimetype": "text/x-python",
   "name": "python",
   "nbconvert_exporter": "python",
   "pygments_lexer": "ipython3",
   "version": "3.10.13"
  }
 },
 "nbformat": 4,
 "nbformat_minor": 5
}
